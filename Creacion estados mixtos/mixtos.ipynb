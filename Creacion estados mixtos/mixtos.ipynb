{
 "cells": [
  {
   "cell_type": "code",
   "execution_count": 31,
   "id": "39c271bf-18f3-4ccb-854e-cebdbb2e0057",
   "metadata": {},
   "outputs": [],
   "source": [
    "##Felipe Ixcamparic, 2021- Proyecto de prácticas/Tésis 2021 | USAC-UNAM"
   ]
  },
  {
   "cell_type": "code",
   "execution_count": 1,
   "id": "578cb093-fa19-4644-a886-6f9bdb66f286",
   "metadata": {},
   "outputs": [
    {
     "name": "stderr",
     "output_type": "stream",
     "text": [
      "/tmp/ipykernel_150/249222572.py:16: DeprecationWarning: The qiskit.ignis package is deprecated and has been supersceded by the qiskit-experiments project. Refer to the migration guide: https://github.com/Qiskit/qiskit-ignis#migration-guide on how to migrate to the new project.\n",
      "  from qiskit.ignis.verification.tomography import state_tomography_circuits, StateTomographyFitter\n"
     ]
    }
   ],
   "source": [
    "# Importing standard Qiskit libraries\n",
    "from qiskit import QuantumCircuit, transpile, Aer, IBMQ\n",
    "\n",
    "# Loading your IBM Quantum account(s)\n",
    "provider = IBMQ.load_account()\n",
    "\n",
    "import numpy as np\n",
    "\n",
    "# Import Qiskit classes\n",
    "import qiskit\n",
    "import qiskit.quantum_info as qi\n",
    "from qiskit import QuantumRegister, QuantumCircuit, ClassicalRegister, Aer\n",
    "from qiskit.providers.aer import noise\n",
    "\n",
    "# Tomography functions\n",
    "from qiskit.ignis.verification.tomography import state_tomography_circuits, StateTomographyFitter\n",
    "from qiskit.ignis.verification.tomography import process_tomography_circuits, ProcessTomographyFitter\n",
    "from qiskit.ignis.verification.tomography import gateset_tomography_circuits, GatesetTomographyFitter\n",
    "import qiskit.ignis.mitigation.measurement as mc\n",
    "\n",
    "#LIBRERÍAS PARA TODO LO NECESARIO: \n",
    "#!pip install qiskit ipywidgets    correr esta línea de primero si se trabaja en google collab\n",
    "\n",
    "#Importación de qiskit\n",
    "from qiskit import *\n",
    "\n",
    "%matplotlib inline\n",
    "from matplotlib import *\n",
    "\n",
    "#Se importan clases y funciones necesarias para la tomografía\n",
    "import qiskit.quantum_info as qi\n",
    "from qiskit.compiler import assemble\n",
    "import numpy as np \n",
    "from numpy import *\n",
    "\n",
    "# Librerías estandar de qiskit\n",
    "from qiskit.compiler import transpile, assemble\n",
    "from qiskit.tools.jupyter import *\n",
    "from qiskit.tools.monitor import job_monitor\n",
    "from qiskit.visualization import *\n",
    "from ibm_quantum_widgets import *\n",
    "from qiskit.quantum_info import *\n",
    "from qiskit.extensions import Initialize\n",
    "# import import_ipynb\n",
    "\n",
    "#Funciones creadas para generar estados aleatorios\n",
    "# from qubit_aleatorio import estado_aleatorio_normal\n",
    "# import qubit_aleatorio as al\n",
    "\n",
    "#Para dibujar sobre la esfera de bloch\n",
    "from kaleidoscope import bloch_sphere\n",
    "#Extración\n",
    "import scipy\n",
    "import re \n",
    "import collections as colect\n",
    "import matplotlib.pyplot as plt"
   ]
  },
  {
   "cell_type": "markdown",
   "id": "f518655d-2a5a-48f3-b94b-ee05d2119494",
   "metadata": {},
   "source": [
    "# Creación de estados mixtos en computadoras cuánticas: \n",
    "\n",
    "El siguiente notebook se enfoca en crear estados mixtos en computadoras cuánticas, ya que no es posible inicializar un ensamble estadístico deseado, es necesario buscar otro tipo de métodos. El siguiente método toma su estructura del paper: https://arxiv.org/pdf/2001.02552.pdf. Como también unos conceptos del paper:  https://arxiv.org/pdf/1905.10876.pdf. "
   ]
  },
  {
   "cell_type": "markdown",
   "id": "e7fb309f-fab8-4fa7-8c43-4a1a23823a1c",
   "metadata": {},
   "source": [
    "## Ansatz:\n",
    "Es un circuito parametrizado por una rotación unitaria U(θ), usada para preparar un estado deseado de la forma $|Ψ(θ)⟩=U(θ)|e_0>$. \n",
    "\n",
    "Buscamos realizar esta parametrización en el siguiente circuito, consistiendo de n_qubits para el sistema y n_qubits para el entorno, trazando parcialmente el entorno para obtener la matriz densidad del sistema. \n",
    "\n",
    "Buscamos entonces $ρ(θ)$, donde $\\vec{ θ}$ es un vector de rotaciones implementadas en cada compuerta del Ansatz.\n"
   ]
  },
  {
   "cell_type": "code",
   "execution_count": 2,
   "id": "27b64935-d88d-4cd9-a9c9-ceee5c8001eb",
   "metadata": {},
   "outputs": [
    {
     "data": {
      "image/png": "[encoded data removed]",
      "text/plain": [
       "<Figure size 507.997x264.88 with 1 Axes>"
      ]
     },
     "execution_count": 2,
     "metadata": {},
     "output_type": "execute_result"
    }
   ],
   "source": [
    "#Inicializacion de un estado mixto en una CC: \n",
    "\n",
    "#Creando el Ansatz:\n",
    "def cirq_ansq(qubits,parameters,layers):\n",
    "    '''\n",
    "    Generador de ansatz para un sistema cerrado (sistema-entorno). \n",
    "    \n",
    "    Entradas:\n",
    "    --------------\n",
    "        qubits:int\n",
    "            número de qubits correspondiente a la dimension de la matriz densidad a generar.\n",
    "        parameters: float-array\n",
    "            vector de parámetros theta, correspondiente a las rotaciones a realizar en el circuito. \n",
    "            **Se necesitan 8*qubits*capas parámetros. \n",
    "        layers: int \n",
    "            número de capas a utilizar en el circuito para generar la matriz densidad. \n",
    "    \n",
    "    Salidas: \n",
    "    ------------\n",
    "        ansq: Objeto tipo quantum circuit\n",
    "            Circuito cuántico generado\n",
    "        rho_sist: Objet tipo DensityMatrix\n",
    "            Matriz densidad del sistema, tras trazar parcialmente el entorno. \n",
    "    \n",
    "    '''\n",
    "    #Se genera un circutio de 2n qubits (la mitad para la matriz densidad, la otra para los qubits de entorno). \n",
    "    ansq=QuantumCircuit(2*qubits)\n",
    "    \n",
    "    #Se aplican por capas las rotaciones correspondientes indicadas en el paper de referencia. \n",
    "    for j in range(layers):\n",
    "        for i in range(2*qubits): \n",
    "#             ansq.rx(parameters[0],i)\n",
    "#             parameters= np.delete(parameters,0)\n",
    "#             ansq.rz(parameters[0],i)\n",
    "#             parameters= np.delete(parameters,0)\n",
    "            \n",
    "            \n",
    "            ansq.rz(parameters[0],i)\n",
    "            parameters= np.delete(parameters,0)\n",
    "            ansq.rx(parameters[0],i)\n",
    "            parameters= np.delete(parameters,0)\n",
    "            ansq.rz(parameters[0],i)\n",
    "            parameters= np.delete(parameters,0)\n",
    "    \n",
    "    #Se completa con compuertas cry para dar intereacción entre los qubits. \n",
    "    for w in range(2*qubits-1):\n",
    "\n",
    "        \n",
    "        ansq.cry(parameters[0],w,w+1)\n",
    "        parameters= np.delete(parameters,0)     \n",
    "        if w==(2*qubits-2):\n",
    "            ansq.cry(parameters[0],w+1,0)\n",
    "            parameters= np.delete(parameters,0)\n",
    "        \n",
    "        '''\n",
    "        Descomentar abajo y comentar el bloque de arriba\n",
    "        para usar CB anzats (ref: https://arxiv.org/pdf/1905.10876.pdf).\n",
    "        '''\n",
    "    \n",
    "        # ansq.crx(parameters[0],w,w+1)\n",
    "        # parameters= np.delete(parameters,0)     \n",
    "        # if w==(2*qubits-2):\n",
    "        #     ansq.crx(parameters[0],w+1,0)\n",
    "        #     parameters= np.delete(parameters,0)\n",
    "    \n",
    "\n",
    "    \n",
    "    #Se guarda en un vector los qubits de entorno a ser trazados. \n",
    "    ancilla=[]\n",
    "    for k in range(qubits,2*qubits):\n",
    "        ancilla.append(k)\n",
    "    \n",
    "    rho_sist=qi.partial_trace(qi.DensityMatrix(ansq),ancilla)\n",
    "    \n",
    "    return ansq, rho_sist\n",
    "\n",
    "#La función puede ser probada claro, se necesitan\n",
    "circ= cirq_ansq(qubits=2,parameters=np.linspace(1,35,35),layers=1)\n",
    "circ[0].draw()"
   ]
  },
  {
   "cell_type": "markdown",
   "id": "d35770fd-b8bb-45be-a25a-db1665d5a5d7",
   "metadata": {},
   "source": [
    "## Función de Costo: \n",
    "Una función de costo suele ser asociada a un valor con cada posible solución a un problema en orden de elegir el más óptimo, en la mayoría de casos se busca minimizar esta función.    (ref: https://docs.microsoft.com/en-us/azure/quantum/optimization-concepts-cost-functions) \n",
    "\n",
    "Nuestro objetivo es hallar una función de costo que optimice nuestros parámetros theta de tal forma que correspondan a la matriz densidad que buscamos.\n",
    "Para ello definimos nuestra función de costo como la fidelidad entre el estado objetivo y la matriz densidad obtenida del circuito anterior. \n",
    "\n",
    "$C(\\theta) = Fidelidad(\\rho(\\theta),\\rho_{target})$"
   ]
  },
  {
   "cell_type": "code",
   "execution_count": 3,
   "id": "bdc2d82e-7c7b-49de-8c9c-7f88a0f68121",
   "metadata": {},
   "outputs": [],
   "source": [
    "target=[[1/2,0],[0,1/2]]  #Matriz densidad objetivo\n",
    "cost_por_iteracion=[]    #Almacenamiento la fidelidad en cada iteracion\n",
    "\n",
    "def cost_func(params):\n",
    "    '''\n",
    "    Función de costo para hallar la matriz densidad objetivo. \n",
    "    \n",
    "    Entradas:\n",
    "        Globales: \n",
    "            qubits: int\n",
    "                número de qubits a usar en el circuito. \n",
    "            layers: int\n",
    "                número de capas a usar en el circuito. \n",
    "            target: array, float\n",
    "                matriz densidad objetivo \n",
    "        Locales: \n",
    "            params:float,array\n",
    "                parametros theta, correspondientes a las rotaciones a usar. \n",
    "    \n",
    "    '''\n",
    "    Dens= cirq_ansq(qubits,params,1)[1]\n",
    "    cost=-qi.state_fidelity(Dens,target)  #Se compara la fidelidad y luego se obtiene el negativo para ser minimizado. \n",
    "    cost_por_iteracion.append(cost)\n",
    "    return cost"
   ]
  },
  {
   "cell_type": "markdown",
   "id": "7c1cb9f4-f639-4599-9dea-3b849f34de08",
   "metadata": {},
   "source": [
    "Esta función de costo entonces busca ser optimizada para encontrar el vector $\\vec{\\theta}$ correspondiente a la Fidelidad máxima entre $\\rho(\\theta)$ y $\\rho_{target}$. Para ello se usa el optimizador de scipy, con el método de COBYLLA. "
   ]
  },
  {
   "cell_type": "code",
   "execution_count": 4,
   "id": "2862c86c-16ba-46e6-b001-630c57cf7fe5",
   "metadata": {},
   "outputs": [],
   "source": [
    "'''Proceso de minimización:\n",
    "     Para este proceso se declaran condiciones iniciales, se minimizan los parámetros theta\n",
    "     y se encuentran los valores óptimos que coindican con nuestra matriz densidad objetivo. \n",
    "'''\n",
    "#Condiciones iniciales movibles:\n",
    "\n",
    "qubits=1 #Se designa el número de qubits\n",
    "capas=1  #Se establece el número de capas\n",
    "target=qi.Pauli('I').to_matrix()/2 #Matriz densidad objetivo\n",
    "cost_por_iteracion=[] #Se resetea el vector de iteraciones\n",
    "maxitr=40  #Número máximo de iteraciones\n",
    "\n",
    "#Se eligen valores iniciales de 0 a 2-pi ya que es el ángulo máximo posible de rotación. \n",
    "parame2=np.random.rand(8*qubits,1)*2*np.pi\n",
    "\n",
    "results = scipy.optimize.minimize(cost_func,parame2,method='COBYLA',options={'maxiter':maxitr}) "
   ]
  },
  {
   "cell_type": "code",
   "execution_count": 15,
   "id": "fb8ba8bc-5ec5-4345-88dc-a470c6976ddf",
   "metadata": {},
   "outputs": [
    {
     "data": {
      "text/plain": [
       "     fun: -0.9999884094370858\n",
       "   maxcv: 0.0\n",
       " message: 'Maximum number of function evaluations has been exceeded.'\n",
       "    nfev: 40\n",
       "  status: 2\n",
       " success: False\n",
       "       x: array([[2.62575634],\n",
       "       [2.29452043],\n",
       "       [2.46847741],\n",
       "       [3.35078611],\n",
       "       [4.3207239 ],\n",
       "       [6.23712793],\n",
       "       [1.89034862],\n",
       "       [3.50679681]])"
      ]
     },
     "execution_count": 15,
     "metadata": {},
     "output_type": "execute_result"
    }
   ],
   "source": [
    "results"
   ]
  },
  {
   "cell_type": "code",
   "execution_count": 29,
   "id": "56df3e1e-01c9-4401-bc75-7280c186cdc8",
   "metadata": {},
   "outputs": [
    {
     "data": {
      "image/png": "[encoded data removed]",
      "text/plain": [
       "<Figure size 576x432 with 1 Axes>"
      ]
     },
     "metadata": {
      "needs_background": "light"
     },
     "output_type": "display_data"
    }
   ],
   "source": [
    "fidel_vals=[]\n",
    "for i in range(len(cost_por_iteracion)):\n",
    "    fidel_vals.append(cost_por_iteracion[i]*-1)\n",
    "fig=plt.figure(figsize=(8, 6))\n",
    "plt.plot(fidel_vals,'r-')\n",
    "plt.xlabel(\"Iteración\",size=20)\n",
    "plt.ylabel(\" Fidelidad  \",size=20)\n",
    "plt.title(\"Maximización de la fidelidad de la matriz densidad del circuito con la buscada\")\n",
    "plt.grid() \n",
    "plt.savefig('iteraciones.png')\n",
    "fig.show()    "
   ]
  },
  {
   "cell_type": "code",
   "execution_count": 6,
   "id": "e9698474-742d-47f6-9f25-20d1d8bcac3b",
   "metadata": {},
   "outputs": [
    {
     "data": {
      "text/latex": [
       "$$\n",
       "\n",
       "\\begin{bmatrix}\n",
       "0.50029 & 0.00092 + 0.00326i  \\\\\n",
       " 0.00092 - 0.00326i & 0.49971  \\\\\n",
       " \\end{bmatrix}\n",
       "$$"
      ],
      "text/plain": [
       "<IPython.core.display.Latex object>"
      ]
     },
     "execution_count": 6,
     "metadata": {},
     "output_type": "execute_result"
    }
   ],
   "source": [
    "cirq_ansq(1,results.x,1)[1].draw('latex')"
   ]
  },
  {
   "cell_type": "markdown",
   "id": "82fad192-c791-479a-891d-afcc7fec9965",
   "metadata": {},
   "source": [
    "## Uso del circuito en una computadora cuántica: \n",
    "\n",
    "\n",
    "Teniendo los parámetros óptimos mediante simulación, entonces ya es posible usarlos en una computadora cuántica, iniciaremos comprobando su fidelidad mediante tomografía de estado"
   ]
  },
  {
   "cell_type": "code",
   "execution_count": 7,
   "id": "0927545b-b35e-49af-8ef2-3b0b75c5b18c",
   "metadata": {},
   "outputs": [],
   "source": [
    "def state_tomo(n_shots,circuito,qubits,server=None):\n",
    "    '''\n",
    "    Función para ejecutar tomografía de estado cuántico sobre un circuito cuántico \n",
    "    \n",
    "    Entradas: \n",
    "        n_shots: int\n",
    "            número de tiros para las corridas. \n",
    "        circuito: QuantumCircuit\n",
    "            Circuito cuántico para realizar el proceso de tomografía\n",
    "        qubits: int\n",
    "            Número de qubits para realizarle el proceso de tomografía\n",
    "        server: int\n",
    "            0 --> Se ejecuta en el simulador\n",
    "            1---> Se ejecuta en una computadora cuántica.\n",
    "            Por defecto estará en 0 si no se llena el campo , siendo en un simulador. \n",
    "    \n",
    "    Salidas:\n",
    "        rho_fit: Objeto DensityMatrix.\n",
    "            Matriz densidad obtenida tras el proceso de tomografía de estado. \n",
    "    '''\n",
    "    \n",
    "    #Se guarda en un vector los qubits a trazar. \n",
    "    obtain=[]\n",
    "    for i in range(qubits):\n",
    "        obtain.append(i)\n",
    "     \n",
    "    #Creación de circuitos de tomografía y respectiva ejecución. \n",
    "    qst_q0 = state_tomography_circuits(circuito, obtain) \n",
    "    \n",
    "    if server==None or server==0:\n",
    "        job = qiskit.execute(qst_q0,Aer.get_backend('qasm_simulator'), shots=n_shots)\n",
    "        job_monitor(job)\n",
    "        resultado = StateTomographyFitter(job.result(), qst_q0)\n",
    "        #Obtención de la matriz densidad luego de la tomografía de estado. \n",
    "        rho_fit = resultado.fit(method='lstsq')\n",
    "        rho_fit = qi.DensityMatrix(rho_fit)\n",
    "        return rho_fit  \n",
    "\n",
    "    \n",
    "    elif server==1: \n",
    "        job = qiskit.execute(qst_q0,backend=qcomp , shots=n_shots)\n",
    "        job_monitor(job)\n",
    "        resultado = StateTomographyFitter(job.result(), qst_q0)\n",
    "        #Obtención de la matriz densidad luego de la tomografía de estado. \n",
    "        rho_fit1 = resultado.fit(method='lstsq')\n",
    "        rho_fit1 = qi.DensityMatrix(rho_fit1)\n",
    "        return rho_fit1\n",
    "    \n",
    "    else:\n",
    "        print('Este no es un número válido')"
   ]
  },
  {
   "cell_type": "code",
   "execution_count": 8,
   "id": "c394c82c-8f99-447b-bb68-9ff90224e2ea",
   "metadata": {},
   "outputs": [
    {
     "name": "stdout",
     "output_type": "stream",
     "text": [
      "Job Status: job has successfully run\n"
     ]
    }
   ],
   "source": [
    "#Se ejecuta el circuito con los parámetros optimizados y se le hace tomografía de estado \n",
    "rho_simulation= state_tomo(n_shots= 5000,circuito=cirq_ansq(1,results.x,1)[0] ,qubits=1,server=0)"
   ]
  },
  {
   "cell_type": "code",
   "execution_count": 9,
   "id": "d34c8f5c-74f7-45df-993f-d7ace3d0632d",
   "metadata": {},
   "outputs": [
    {
     "name": "stdout",
     "output_type": "stream",
     "text": [
      "Job Status: job has successfully run\n"
     ]
    }
   ],
   "source": [
    "#Es posible realizar lo mismo en alguna computadora cuántica. \n",
    "provider = IBMQ.get_provider('ibm-q')\n",
    "qcomp= provider.get_backend('ibmq_belem') \n",
    "\n",
    "rho_qcomp= state_tomo(3000,cirq_ansq(1,results.x,1)[0],1,1) "
   ]
  },
  {
   "cell_type": "code",
   "execution_count": 10,
   "id": "536c4ca3-b6f1-45bd-84eb-c769fff67fa6",
   "metadata": {},
   "outputs": [
    {
     "name": "stdout",
     "output_type": "stream",
     "text": [
      "Matriz densidad objetivo[[0.5+0.j 0. +0.j]\n",
      " [0. +0.j 0.5+0.j]]\n",
      "Fidelidad con simulación: 0.9998170065133842\n",
      "Fidelidad con q_comp: 0.9992498817670817\n"
     ]
    }
   ],
   "source": [
    "Fidelidad_simu = qi.state_fidelity(target,rho_simulation)\n",
    "Fidelidad_qcomp = qi.state_fidelity(target,rho_qcomp)\n",
    "\n",
    "print('Matriz densidad objetivo' + str(target))\n",
    "print('Fidelidad con simulación: '+str(Fidelidad_simu))\n",
    "print('Fidelidad con q_comp: '  + str(Fidelidad_qcomp)) "
   ]
  }
 ],
 "metadata": {
  "kernelspec": {
   "display_name": "Qiskit v0.33.1 (ipykernel)",
   "language": "python",
   "name": "python3"
  },
  "language_info": {
   "codemirror_mode": {
    "name": "ipython",
    "version": 3
   },
   "file_extension": ".py",
   "mimetype": "text/x-python",
   "name": "python",
   "nbconvert_exporter": "python",
   "pygments_lexer": "ipython3",
   "version": "3.8.10"
  },
  "widgets": {
   "application/vnd.jupyter.widget-state+json": {
    "state": {
     "04ebab1eb9234e3996a938fef7b81d32": {
      "model_module": "@jupyter-widgets/controls",
      "model_module_version": "1.5.0",
      "model_name": "DescriptionStyleModel",
      "state": {
       "description_width": ""
      }
     },
     "06071e2281d549b0aeb03153dc7884f3": {
      "model_module": "@jupyter-widgets/controls",
      "model_module_version": "1.5.0",
      "model_name": "DescriptionStyleModel",
      "state": {
       "description_width": ""
      }
     },
     "0d79fea985b04b3ca947fa546ed135a2": {
      "model_module": "@jupyter-widgets/base",
      "model_module_version": "1.2.0",
      "model_name": "LayoutModel",
      "state": {
       "width": "95px"
      }
     },
     "0e3aef333c9741239fb39c25bbcf2756": {
      "model_module": "@jupyter-widgets/base",
      "model_module_version": "1.2.0",
      "model_name": "LayoutModel",
      "state": {
       "width": "145px"
      }
     },
     "12ccfa322b204e6b902b4c2335857af9": {
      "model_module": "@jupyter-widgets/controls",
      "model_module_version": "1.5.0",
      "model_name": "ButtonModel",
      "state": {
       "button_style": "primary",
       "description": "Clear",
       "layout": "IPY_MODEL_bab10a27459a42059716ca6c0aa8c4d7",
       "style": "IPY_MODEL_83cc9133d98e42818607155cb8e52c2e"
      }
     },
     "14538266ce534e938f9c3063ed78c67e": {
      "model_module": "@jupyter-widgets/base",
      "model_module_version": "1.2.0",
      "model_name": "LayoutModel",
      "state": {
       "grid_template_areas": "\n                                       \". . . . right \"\n                                        ",
       "grid_template_columns": "20% 20% 20% 20% 20%",
       "width": "100%"
      }
     },
     "15cafa4bf760435887ddf145d151cad3": {
      "model_module": "@jupyter-widgets/controls",
      "model_module_version": "1.5.0",
      "model_name": "DescriptionStyleModel",
      "state": {
       "description_width": ""
      }
     },
     "1641ad0e31d6437ea8c85261abfbaf58": {
      "model_module": "@jupyter-widgets/base",
      "model_module_version": "1.2.0",
      "model_name": "LayoutModel",
      "state": {
       "width": "190px"
      }
     },
     "1697348149fe4a29ad9ddda21952cd10": {
      "model_module": "@jupyter-widgets/base",
      "model_module_version": "1.2.0",
      "model_name": "LayoutModel",
      "state": {
       "width": "190px"
      }
     },
     "1ad65872581c4318a65ac55af0e6e94a": {
      "model_module": "@jupyter-widgets/base",
      "model_module_version": "1.2.0",
      "model_name": "LayoutModel",
      "state": {}
     },
     "263c8e4bb2344c569848dfc528e53be2": {
      "model_module": "@jupyter-widgets/base",
      "model_module_version": "1.2.0",
      "model_name": "LayoutModel",
      "state": {
       "width": "145px"
      }
     },
     "26e8c2b21aef47989649172076902a83": {
      "model_module": "@jupyter-widgets/controls",
      "model_module_version": "1.5.0",
      "model_name": "HTMLModel",
      "state": {
       "layout": "IPY_MODEL_cd68d684d67540fb998a5269052b95aa",
       "style": "IPY_MODEL_2c8772183a804365bd47a621bc2279cf",
       "value": "61ba680d78707c2946f64798"
      }
     },
     "2c8772183a804365bd47a621bc2279cf": {
      "model_module": "@jupyter-widgets/controls",
      "model_module_version": "1.5.0",
      "model_name": "DescriptionStyleModel",
      "state": {
       "description_width": ""
      }
     },
     "350e46c67cfa4b05a1aeaed8646dff93": {
      "model_module": "@jupyter-widgets/controls",
      "model_module_version": "1.5.0",
      "model_name": "HTMLModel",
      "state": {
       "layout": "IPY_MODEL_1ad65872581c4318a65ac55af0e6e94a",
       "style": "IPY_MODEL_f41c133482724de7bbb118bb59b82951",
       "value": "<h5>Message</h5>"
      }
     },
     "38bb82db2a5441dfbb2d26d897fbb8dc": {
      "model_module": "@jupyter-widgets/controls",
      "model_module_version": "1.5.0",
      "model_name": "DescriptionStyleModel",
      "state": {
       "description_width": ""
      }
     },
     "3aa0eb3c4b1f4eb88105a507a406f8b9": {
      "model_module": "@jupyter-widgets/controls",
      "model_module_version": "1.5.0",
      "model_name": "ButtonStyleModel",
      "state": {
       "button_color": "white"
      }
     },
     "41386d83b30446b5906b8c23c901a966": {
      "model_module": "@jupyter-widgets/controls",
      "model_module_version": "1.5.0",
      "model_name": "ButtonModel",
      "state": {
       "icon": "close",
       "layout": "IPY_MODEL_e1ffc0e7a43449ebb6a1943cf1bf4dde",
       "style": "IPY_MODEL_3aa0eb3c4b1f4eb88105a507a406f8b9"
      }
     },
     "4b6708e65faf467d9bffacb960b966fa": {
      "model_module": "@jupyter-widgets/base",
      "model_module_version": "1.2.0",
      "model_name": "LayoutModel",
      "state": {
       "width": "70px"
      }
     },
     "4c0fdf512e29467d8f6d5e09cac85df4": {
      "model_module": "@jupyter-widgets/controls",
      "model_module_version": "1.5.0",
      "model_name": "HTMLModel",
      "state": {
       "layout": "IPY_MODEL_a1311d4b35d148578e1cfbf91dcec842",
       "style": "IPY_MODEL_38bb82db2a5441dfbb2d26d897fbb8dc",
       "value": "<h5>Status</h5>"
      }
     },
     "4d4b2efed6724f559ff142dd90a35df9": {
      "model_module": "@jupyter-widgets/controls",
      "model_module_version": "1.5.0",
      "model_name": "HTMLModel",
      "state": {
       "layout": "IPY_MODEL_8511e383e35b4a1f85fc692185fbd00b",
       "style": "IPY_MODEL_ded040bc2db74163b7d4143defaa7d45",
       "value": "<h5>Message</h5>"
      }
     },
     "4d9b5258e2ab4363bcfb4df265fa73d2": {
      "model_module": "@jupyter-widgets/controls",
      "model_module_version": "1.5.0",
      "model_name": "HTMLModel",
      "state": {
       "layout": "IPY_MODEL_9e8fc86062ca425d8c3587a68b1cfa7a",
       "style": "IPY_MODEL_728d07331019476bac5a56dc36494921",
       "value": "job has successfully run"
      }
     },
     "51583550747d4dffa8a375f296233b6b": {
      "model_module": "@jupyter-widgets/base",
      "model_module_version": "1.2.0",
      "model_name": "LayoutModel",
      "state": {
       "margin": "0px 0px 0px 37px",
       "width": "600px"
      }
     },
     "539c55719bd146ce84a80ef616fe91c7": {
      "model_module": "@jupyter-widgets/base",
      "model_module_version": "1.2.0",
      "model_name": "LayoutModel",
      "state": {
       "width": "95px"
      }
     },
     "5414618bb83b4e4abaf4670fc702d4df": {
      "model_module": "@jupyter-widgets/controls",
      "model_module_version": "1.5.0",
      "model_name": "HTMLModel",
      "state": {
       "layout": "IPY_MODEL_e6586e22eed84d808a1d6250640eb730",
       "style": "IPY_MODEL_06071e2281d549b0aeb03153dc7884f3",
       "value": "<p style='font-family: IBM Plex Sans, Arial, Helvetica, sans-serif; font-size: 20px; font-weight: medium;'>Circuit Properties</p>"
      }
     },
     "54ae7f694ad441d2ae75fe7c5ae92023": {
      "model_module": "@jupyter-widgets/base",
      "model_module_version": "1.2.0",
      "model_name": "LayoutModel",
      "state": {
       "width": "70px"
      }
     },
     "5a7a1cc2f68546678a4d5b8eb9d00aa6": {
      "model_module": "@jupyter-widgets/controls",
      "model_module_version": "1.5.0",
      "model_name": "DescriptionStyleModel",
      "state": {
       "description_width": ""
      }
     },
     "5b27412f667447c082df00ab98ba32f8": {
      "model_module": "@jupyter-widgets/controls",
      "model_module_version": "1.5.0",
      "model_name": "HTMLModel",
      "state": {
       "layout": "IPY_MODEL_1697348149fe4a29ad9ddda21952cd10",
       "style": "IPY_MODEL_ce2ee1d6ba7b42f991143387f82dd968",
       "value": "<h5>Job ID</h5>"
      }
     },
     "6262d987856540e2bff546fa15a4d7f4": {
      "model_module": "@jupyter-widgets/controls",
      "model_module_version": "1.5.0",
      "model_name": "DescriptionStyleModel",
      "state": {
       "description_width": ""
      }
     },
     "68287a07f95b43ffb408d54a58e41a69": {
      "model_module": "@jupyter-widgets/controls",
      "model_module_version": "1.5.0",
      "model_name": "HBoxModel",
      "state": {
       "children": [
        "IPY_MODEL_41386d83b30446b5906b8c23c901a966",
        "IPY_MODEL_ff5b00fb194f4df39da3b8771efe15bb",
        "IPY_MODEL_9d31519b78a643f984d1c91c36fa3740",
        "IPY_MODEL_7f6d8a0f4a7e4787a1fbf50b79e0fbc7",
        "IPY_MODEL_fb5119a6deda466eb003bb2c62320ce2",
        "IPY_MODEL_4d9b5258e2ab4363bcfb4df265fa73d2"
       ],
       "layout": "IPY_MODEL_b6c9d9ab645b407891a5daade30d5396"
      }
     },
     "6982217266d84a178ee9254ee65dbc80": {
      "model_module": "@jupyter-widgets/controls",
      "model_module_version": "1.5.0",
      "model_name": "HBoxModel",
      "state": {
       "children": [
        "IPY_MODEL_5b27412f667447c082df00ab98ba32f8",
        "IPY_MODEL_d92295d96167462cba41ea6436185c76",
        "IPY_MODEL_9b6fbb26df474b8e8bc0af244564f846",
        "IPY_MODEL_cb67c4be83c04817bfe955ec2ae026c2",
        "IPY_MODEL_350e46c67cfa4b05a1aeaed8646dff93"
       ],
       "layout": "IPY_MODEL_51583550747d4dffa8a375f296233b6b"
      }
     },
     "6f06f67d310e4f9cbf83b7712b5dbed4": {
      "model_module": "@jupyter-widgets/controls",
      "model_module_version": "1.5.0",
      "model_name": "DescriptionStyleModel",
      "state": {
       "description_width": ""
      }
     },
     "728d07331019476bac5a56dc36494921": {
      "model_module": "@jupyter-widgets/controls",
      "model_module_version": "1.5.0",
      "model_name": "DescriptionStyleModel",
      "state": {
       "description_width": ""
      }
     },
     "74cd29e9dd384ab6aadb19d83ba40621": {
      "model_module": "@jupyter-widgets/controls",
      "model_module_version": "1.5.0",
      "model_name": "HTMLModel",
      "state": {
       "layout": "IPY_MODEL_c1eec0214a4e44e7aab10977ebde0200",
       "style": "IPY_MODEL_5a7a1cc2f68546678a4d5b8eb9d00aa6",
       "value": "<h5>Job ID</h5>"
      }
     },
     "7f6d8a0f4a7e4787a1fbf50b79e0fbc7": {
      "model_module": "@jupyter-widgets/controls",
      "model_module_version": "1.5.0",
      "model_name": "HTMLModel",
      "state": {
       "layout": "IPY_MODEL_539c55719bd146ce84a80ef616fe91c7",
       "style": "IPY_MODEL_15cafa4bf760435887ddf145d151cad3",
       "value": "<font style='color:#34BC6E'>DONE</font>"
      }
     },
     "81ef09372f4440b7b984cdd2936e14fb": {
      "model_module": "@jupyter-widgets/controls",
      "model_module_version": "1.5.0",
      "model_name": "HTMLModel",
      "state": {
       "layout": "IPY_MODEL_f842550fdc354d9494466d51d9433ac8",
       "style": "IPY_MODEL_6262d987856540e2bff546fa15a4d7f4",
       "value": "<p style='font-family: IBM Plex Sans, Arial, Helvetica, sans-serif; font-size: 20px; font-weight: medium;'>Circuit Properties</p>"
      }
     },
     "83cc9133d98e42818607155cb8e52c2e": {
      "model_module": "@jupyter-widgets/controls",
      "model_module_version": "1.5.0",
      "model_name": "ButtonStyleModel",
      "state": {}
     },
     "8511e383e35b4a1f85fc692185fbd00b": {
      "model_module": "@jupyter-widgets/base",
      "model_module_version": "1.2.0",
      "model_name": "LayoutModel",
      "state": {}
     },
     "9ae363dde2e74ec0aa435aa8ccb1a92a": {
      "model_module": "@jupyter-widgets/base",
      "model_module_version": "1.2.0",
      "model_name": "LayoutModel",
      "state": {
       "width": "70px"
      }
     },
     "9b6fbb26df474b8e8bc0af244564f846": {
      "model_module": "@jupyter-widgets/controls",
      "model_module_version": "1.5.0",
      "model_name": "HTMLModel",
      "state": {
       "layout": "IPY_MODEL_0d79fea985b04b3ca947fa546ed135a2",
       "style": "IPY_MODEL_6f06f67d310e4f9cbf83b7712b5dbed4",
       "value": "<h5>Status</h5>"
      }
     },
     "9cadc98348be4ab4b83f850484ec079a": {
      "model_module": "@jupyter-widgets/base",
      "model_module_version": "1.2.0",
      "model_name": "LayoutModel",
      "state": {
       "grid_template_areas": "\n                                       \". . . . right \"\n                                        ",
       "grid_template_columns": "20% 20% 20% 20% 20%",
       "width": "100%"
      }
     },
     "9d31519b78a643f984d1c91c36fa3740": {
      "model_module": "@jupyter-widgets/controls",
      "model_module_version": "1.5.0",
      "model_name": "HTMLModel",
      "state": {
       "layout": "IPY_MODEL_0e3aef333c9741239fb39c25bbcf2756",
       "style": "IPY_MODEL_b190d4166f5c4e5bbea03fba78270c0e",
       "value": "ibmq_belem"
      }
     },
     "9e8fc86062ca425d8c3587a68b1cfa7a": {
      "model_module": "@jupyter-widgets/base",
      "model_module_version": "1.2.0",
      "model_name": "LayoutModel",
      "state": {
       "overflow_x": "scroll"
      }
     },
     "a1311d4b35d148578e1cfbf91dcec842": {
      "model_module": "@jupyter-widgets/base",
      "model_module_version": "1.2.0",
      "model_name": "LayoutModel",
      "state": {
       "width": "95px"
      }
     },
     "b190d4166f5c4e5bbea03fba78270c0e": {
      "model_module": "@jupyter-widgets/controls",
      "model_module_version": "1.5.0",
      "model_name": "DescriptionStyleModel",
      "state": {
       "description_width": ""
      }
     },
     "b6c9d9ab645b407891a5daade30d5396": {
      "model_module": "@jupyter-widgets/base",
      "model_module_version": "1.2.0",
      "model_name": "LayoutModel",
      "state": {
       "max_width": "700px",
       "min_width": "700px"
      }
     },
     "bab10a27459a42059716ca6c0aa8c4d7": {
      "model_module": "@jupyter-widgets/base",
      "model_module_version": "1.2.0",
      "model_name": "LayoutModel",
      "state": {
       "grid_area": "right",
       "padding": "0px 0px 0px 0px",
       "width": "70px"
      }
     },
     "c145bc73384345188a182205ae4b3a8d": {
      "model_module": "@jupyter-widgets/controls",
      "model_module_version": "1.5.0",
      "model_name": "GridBoxModel",
      "state": {
       "children": [
        "IPY_MODEL_12ccfa322b204e6b902b4c2335857af9"
       ],
       "layout": "IPY_MODEL_9cadc98348be4ab4b83f850484ec079a"
      }
     },
     "c1eec0214a4e44e7aab10977ebde0200": {
      "model_module": "@jupyter-widgets/base",
      "model_module_version": "1.2.0",
      "model_name": "LayoutModel",
      "state": {
       "width": "190px"
      }
     },
     "ca930dd025f5489d8314ed4026deec59": {
      "model_module": "@jupyter-widgets/controls",
      "model_module_version": "1.5.0",
      "model_name": "DescriptionStyleModel",
      "state": {
       "description_width": ""
      }
     },
     "cb67c4be83c04817bfe955ec2ae026c2": {
      "model_module": "@jupyter-widgets/controls",
      "model_module_version": "1.5.0",
      "model_name": "HTMLModel",
      "state": {
       "layout": "IPY_MODEL_54ae7f694ad441d2ae75fe7c5ae92023",
       "style": "IPY_MODEL_ecf3d11a48d544b3b7680004f206aa4f",
       "value": "<h5>Queue</h5>"
      }
     },
     "cd68d684d67540fb998a5269052b95aa": {
      "model_module": "@jupyter-widgets/base",
      "model_module_version": "1.2.0",
      "model_name": "LayoutModel",
      "state": {
       "width": "190px"
      }
     },
     "ce2ee1d6ba7b42f991143387f82dd968": {
      "model_module": "@jupyter-widgets/controls",
      "model_module_version": "1.5.0",
      "model_name": "DescriptionStyleModel",
      "state": {
       "description_width": ""
      }
     },
     "cfdb1876d04142dd818dde27b9c32685": {
      "model_module": "@jupyter-widgets/controls",
      "model_module_version": "1.5.0",
      "model_name": "HTMLModel",
      "state": {
       "layout": "IPY_MODEL_9ae363dde2e74ec0aa435aa8ccb1a92a",
       "style": "IPY_MODEL_ca930dd025f5489d8314ed4026deec59",
       "value": "<h5>Queue</h5>"
      }
     },
     "d4c8a9889c274868a25e8fc6e04a337f": {
      "model_module": "@jupyter-widgets/base",
      "model_module_version": "1.2.0",
      "model_name": "LayoutModel",
      "state": {
       "margin": "0px 0px 0px 37px",
       "width": "600px"
      }
     },
     "d92295d96167462cba41ea6436185c76": {
      "model_module": "@jupyter-widgets/controls",
      "model_module_version": "1.5.0",
      "model_name": "HTMLModel",
      "state": {
       "layout": "IPY_MODEL_e6bb66f0c7f64a7d8c02c121097cfaa4",
       "style": "IPY_MODEL_ec3cf8d67e364c34b42d28355e6be170",
       "value": "<h5>Backend</h5>"
      }
     },
     "d932e920d00f4123bda67d72cadfd8e5": {
      "model_module": "@jupyter-widgets/controls",
      "model_module_version": "1.5.0",
      "model_name": "ButtonModel",
      "state": {
       "button_style": "primary",
       "description": "Clear",
       "layout": "IPY_MODEL_de0929fb09dc431ba6cae33ae569907b",
       "style": "IPY_MODEL_f6e670c3ae374cd6b707c197eff59482"
      }
     },
     "de0929fb09dc431ba6cae33ae569907b": {
      "model_module": "@jupyter-widgets/base",
      "model_module_version": "1.2.0",
      "model_name": "LayoutModel",
      "state": {
       "grid_area": "right",
       "padding": "0px 0px 0px 0px",
       "width": "70px"
      }
     },
     "ded040bc2db74163b7d4143defaa7d45": {
      "model_module": "@jupyter-widgets/controls",
      "model_module_version": "1.5.0",
      "model_name": "DescriptionStyleModel",
      "state": {
       "description_width": ""
      }
     },
     "e1ffc0e7a43449ebb6a1943cf1bf4dde": {
      "model_module": "@jupyter-widgets/base",
      "model_module_version": "1.2.0",
      "model_name": "LayoutModel",
      "state": {
       "margin": "0px 5px 0px 0px",
       "width": "32px"
      }
     },
     "e6586e22eed84d808a1d6250640eb730": {
      "model_module": "@jupyter-widgets/base",
      "model_module_version": "1.2.0",
      "model_name": "LayoutModel",
      "state": {
       "margin": "0px 0px 10px 0px"
      }
     },
     "e6bb66f0c7f64a7d8c02c121097cfaa4": {
      "model_module": "@jupyter-widgets/base",
      "model_module_version": "1.2.0",
      "model_name": "LayoutModel",
      "state": {
       "width": "145px"
      }
     },
     "ec0673275d404169970209616050d454": {
      "model_module": "@jupyter-widgets/controls",
      "model_module_version": "1.5.0",
      "model_name": "DescriptionStyleModel",
      "state": {
       "description_width": ""
      }
     },
     "ec3cf8d67e364c34b42d28355e6be170": {
      "model_module": "@jupyter-widgets/controls",
      "model_module_version": "1.5.0",
      "model_name": "DescriptionStyleModel",
      "state": {
       "description_width": ""
      }
     },
     "ecf3d11a48d544b3b7680004f206aa4f": {
      "model_module": "@jupyter-widgets/controls",
      "model_module_version": "1.5.0",
      "model_name": "DescriptionStyleModel",
      "state": {
       "description_width": ""
      }
     },
     "f1c4bb5c58dc43e59560a2f27a611940": {
      "model_module": "@jupyter-widgets/controls",
      "model_module_version": "1.5.0",
      "model_name": "HBoxModel",
      "state": {
       "children": [
        "IPY_MODEL_74cd29e9dd384ab6aadb19d83ba40621",
        "IPY_MODEL_f4aab9c2368b4c3aa9563a8ddd35ced8",
        "IPY_MODEL_4c0fdf512e29467d8f6d5e09cac85df4",
        "IPY_MODEL_cfdb1876d04142dd818dde27b9c32685",
        "IPY_MODEL_4d4b2efed6724f559ff142dd90a35df9"
       ],
       "layout": "IPY_MODEL_d4c8a9889c274868a25e8fc6e04a337f"
      }
     },
     "f41c133482724de7bbb118bb59b82951": {
      "model_module": "@jupyter-widgets/controls",
      "model_module_version": "1.5.0",
      "model_name": "DescriptionStyleModel",
      "state": {
       "description_width": ""
      }
     },
     "f4aab9c2368b4c3aa9563a8ddd35ced8": {
      "model_module": "@jupyter-widgets/controls",
      "model_module_version": "1.5.0",
      "model_name": "HTMLModel",
      "state": {
       "layout": "IPY_MODEL_263c8e4bb2344c569848dfc528e53be2",
       "style": "IPY_MODEL_ffa524490bae4c0e829279a995fa0489",
       "value": "<h5>Backend</h5>"
      }
     },
     "f6b7dcdec34243059b38573c1316231c": {
      "model_module": "@jupyter-widgets/controls",
      "model_module_version": "1.5.0",
      "model_name": "GridBoxModel",
      "state": {
       "children": [
        "IPY_MODEL_d932e920d00f4123bda67d72cadfd8e5"
       ],
       "layout": "IPY_MODEL_14538266ce534e938f9c3063ed78c67e"
      }
     },
     "f6e670c3ae374cd6b707c197eff59482": {
      "model_module": "@jupyter-widgets/controls",
      "model_module_version": "1.5.0",
      "model_name": "ButtonStyleModel",
      "state": {}
     },
     "f842550fdc354d9494466d51d9433ac8": {
      "model_module": "@jupyter-widgets/base",
      "model_module_version": "1.2.0",
      "model_name": "LayoutModel",
      "state": {
       "margin": "0px 0px 10px 0px"
      }
     },
     "fb5119a6deda466eb003bb2c62320ce2": {
      "model_module": "@jupyter-widgets/controls",
      "model_module_version": "1.5.0",
      "model_name": "HTMLModel",
      "state": {
       "layout": "IPY_MODEL_4b6708e65faf467d9bffacb960b966fa",
       "style": "IPY_MODEL_04ebab1eb9234e3996a938fef7b81d32",
       "value": "-"
      }
     },
     "ff5b00fb194f4df39da3b8771efe15bb": {
      "model_module": "@jupyter-widgets/controls",
      "model_module_version": "1.5.0",
      "model_name": "HTMLModel",
      "state": {
       "layout": "IPY_MODEL_1641ad0e31d6437ea8c85261abfbaf58",
       "style": "IPY_MODEL_ec0673275d404169970209616050d454",
       "value": "61ba91a5dccd006f579ff90d"
      }
     },
     "ffa524490bae4c0e829279a995fa0489": {
      "model_module": "@jupyter-widgets/controls",
      "model_module_version": "1.5.0",
      "model_name": "DescriptionStyleModel",
      "state": {
       "description_width": ""
      }
     }
    },
    "version_major": 2,
    "version_minor": 0
   }
  }
 },
 "nbformat": 4,
 "nbformat_minor": 5
}
